{
 "cells": [
  {
   "cell_type": "code",
   "execution_count": 0,
   "metadata": {},
   "outputs": [
    {
     "data": {
      "text/plain": [
       "1229"
      ]
     },
     "execution_count": 0,
     "metadata": {},
     "output_type": "execute_result"
    }
   ],
   "source": [
    "function sieve(N)\n",
    "    maxValue = ceil(Int,sqrt(N))\n",
    "    A = fill(true,(N))\n",
    "    A[1] = false\n",
    "    for i in 2:maxValue\n",
    "        if A[i]\n",
    "            for j in collect(i^2:i:N)\n",
    "                A[j] = false\n",
    "            end\n",
    "        end\n",
    "    end\n",
    "    return A\n",
    "end\n",
    "\n",
    "sum(sieve(10000))"
   ]
  }
 ],
 "metadata": {
  "kernelspec": {
   "display_name": "Julia 1.2.0",
   "language": "julia",
   "name": "julia-1.2"
  },
  "language_info": {
   "file_extension": ".jl",
   "mimetype": "application/julia",
   "name": "julia",
   "version": "1.2.0"
  }
 },
 "nbformat": 4,
 "nbformat_minor": 2
}
